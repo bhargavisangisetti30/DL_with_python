{
 "cells": [
  {
   "cell_type": "code",
   "execution_count": 1,
   "id": "ee3d0050-2fd6-4cad-b2fc-24db25480dfa",
   "metadata": {},
   "outputs": [
    {
     "name": "stdout",
     "output_type": "stream",
     "text": [
      "WARNING:tensorflow:From C:\\Users\\hp\\anaconda3\\Lib\\site-packages\\keras\\src\\losses.py:2976: The name tf.losses.sparse_softmax_cross_entropy is deprecated. Please use tf.compat.v1.losses.sparse_softmax_cross_entropy instead.\n",
      "\n"
     ]
    }
   ],
   "source": [
    "import pandas as pd\n",
    "import numpy as np\n",
    "from sklearn.preprocessing import MinMaxScaler\n",
    "from keras.models import Sequential\n",
    "from keras.layers import LSTM, Dense\n",
    "from sklearn.model_selection import train_test_split\n",
    "from keras.layers import Bidirectional\n",
    "from keras.layers import TimeDistributed"
   ]
  },
  {
   "cell_type": "code",
   "execution_count": 4,
   "id": "fda58db5-6bc4-4171-87c4-cf875046e29e",
   "metadata": {},
   "outputs": [
    {
     "data": {
      "text/html": [
       "<div>\n",
       "<style scoped>\n",
       "    .dataframe tbody tr th:only-of-type {\n",
       "        vertical-align: middle;\n",
       "    }\n",
       "\n",
       "    .dataframe tbody tr th {\n",
       "        vertical-align: top;\n",
       "    }\n",
       "\n",
       "    .dataframe thead th {\n",
       "        text-align: right;\n",
       "    }\n",
       "</style>\n",
       "<table border=\"1\" class=\"dataframe\">\n",
       "  <thead>\n",
       "    <tr style=\"text-align: right;\">\n",
       "      <th></th>\n",
       "      <th>Temperature</th>\n",
       "      <th>Pressure</th>\n",
       "      <th>Vibration</th>\n",
       "      <th>Timestamp</th>\n",
       "      <th>FailureLabel</th>\n",
       "    </tr>\n",
       "  </thead>\n",
       "  <tbody>\n",
       "    <tr>\n",
       "      <th>0</th>\n",
       "      <td>74.967142</td>\n",
       "      <td>68.617357</td>\n",
       "      <td>76.476885</td>\n",
       "      <td>2023-01-01</td>\n",
       "      <td>0</td>\n",
       "    </tr>\n",
       "    <tr>\n",
       "      <th>1</th>\n",
       "      <td>85.230299</td>\n",
       "      <td>67.658466</td>\n",
       "      <td>67.658630</td>\n",
       "      <td>2023-01-02</td>\n",
       "      <td>1</td>\n",
       "    </tr>\n",
       "    <tr>\n",
       "      <th>2</th>\n",
       "      <td>85.792128</td>\n",
       "      <td>77.674347</td>\n",
       "      <td>65.305256</td>\n",
       "      <td>2023-01-03</td>\n",
       "      <td>1</td>\n",
       "    </tr>\n",
       "    <tr>\n",
       "      <th>3</th>\n",
       "      <td>75.425600</td>\n",
       "      <td>65.365823</td>\n",
       "      <td>65.342702</td>\n",
       "      <td>2023-01-04</td>\n",
       "      <td>0</td>\n",
       "    </tr>\n",
       "    <tr>\n",
       "      <th>4</th>\n",
       "      <td>72.419623</td>\n",
       "      <td>50.867198</td>\n",
       "      <td>52.750822</td>\n",
       "      <td>2023-01-05</td>\n",
       "      <td>0</td>\n",
       "    </tr>\n",
       "  </tbody>\n",
       "</table>\n",
       "</div>"
      ],
      "text/plain": [
       "   Temperature   Pressure  Vibration   Timestamp  FailureLabel\n",
       "0    74.967142  68.617357  76.476885  2023-01-01             0\n",
       "1    85.230299  67.658466  67.658630  2023-01-02             1\n",
       "2    85.792128  77.674347  65.305256  2023-01-03             1\n",
       "3    75.425600  65.365823  65.342702  2023-01-04             0\n",
       "4    72.419623  50.867198  52.750822  2023-01-05             0"
      ]
     },
     "execution_count": 4,
     "metadata": {},
     "output_type": "execute_result"
    }
   ],
   "source": [
    "data = pd.read_csv('simulated_predictive_maintenance_data.csv')\n",
    "data.head()"
   ]
  },
  {
   "cell_type": "code",
   "execution_count": 5,
   "id": "89730fba-ccd7-4069-a26e-b3f0be7ec8cb",
   "metadata": {},
   "outputs": [],
   "source": [
    "scaler = MinMaxScaler()\n",
    "data[['Temperature', 'Pressure', 'Vibration']] = scaler.fit_transform(data[['Temperature', 'Pressure', 'Vibration']])"
   ]
  },
  {
   "cell_type": "code",
   "execution_count": 6,
   "id": "2686f3b4-ae93-4bf1-9af2-38e81c38ca45",
   "metadata": {},
   "outputs": [
    {
     "data": {
      "text/html": [
       "<div>\n",
       "<style scoped>\n",
       "    .dataframe tbody tr th:only-of-type {\n",
       "        vertical-align: middle;\n",
       "    }\n",
       "\n",
       "    .dataframe tbody tr th {\n",
       "        vertical-align: top;\n",
       "    }\n",
       "\n",
       "    .dataframe thead th {\n",
       "        text-align: right;\n",
       "    }\n",
       "</style>\n",
       "<table border=\"1\" class=\"dataframe\">\n",
       "  <thead>\n",
       "    <tr style=\"text-align: right;\">\n",
       "      <th></th>\n",
       "      <th>Temperature</th>\n",
       "      <th>Pressure</th>\n",
       "      <th>Vibration</th>\n",
       "      <th>Timestamp</th>\n",
       "      <th>FailureLabel</th>\n",
       "    </tr>\n",
       "  </thead>\n",
       "  <tbody>\n",
       "    <tr>\n",
       "      <th>0</th>\n",
       "      <td>0.623065</td>\n",
       "      <td>0.490970</td>\n",
       "      <td>0.504820</td>\n",
       "      <td>2023-01-01</td>\n",
       "      <td>0</td>\n",
       "    </tr>\n",
       "    <tr>\n",
       "      <th>1</th>\n",
       "      <td>0.851555</td>\n",
       "      <td>0.475798</td>\n",
       "      <td>0.368577</td>\n",
       "      <td>2023-01-02</td>\n",
       "      <td>1</td>\n",
       "    </tr>\n",
       "    <tr>\n",
       "      <th>2</th>\n",
       "      <td>0.864063</td>\n",
       "      <td>0.634273</td>\n",
       "      <td>0.332218</td>\n",
       "      <td>2023-01-03</td>\n",
       "      <td>1</td>\n",
       "    </tr>\n",
       "    <tr>\n",
       "      <th>3</th>\n",
       "      <td>0.633272</td>\n",
       "      <td>0.439523</td>\n",
       "      <td>0.332796</td>\n",
       "      <td>2023-01-04</td>\n",
       "      <td>0</td>\n",
       "    </tr>\n",
       "    <tr>\n",
       "      <th>4</th>\n",
       "      <td>0.566349</td>\n",
       "      <td>0.210120</td>\n",
       "      <td>0.138251</td>\n",
       "      <td>2023-01-05</td>\n",
       "      <td>0</td>\n",
       "    </tr>\n",
       "    <tr>\n",
       "      <th>...</th>\n",
       "      <td>...</td>\n",
       "      <td>...</td>\n",
       "      <td>...</td>\n",
       "      <td>...</td>\n",
       "      <td>...</td>\n",
       "    </tr>\n",
       "    <tr>\n",
       "      <th>176</th>\n",
       "      <td>0.570303</td>\n",
       "      <td>0.369762</td>\n",
       "      <td>0.503414</td>\n",
       "      <td>2023-06-26</td>\n",
       "      <td>0</td>\n",
       "    </tr>\n",
       "    <tr>\n",
       "      <th>177</th>\n",
       "      <td>0.142574</td>\n",
       "      <td>0.502391</td>\n",
       "      <td>0.217649</td>\n",
       "      <td>2023-06-27</td>\n",
       "      <td>0</td>\n",
       "    </tr>\n",
       "    <tr>\n",
       "      <th>178</th>\n",
       "      <td>0.367361</td>\n",
       "      <td>0.520346</td>\n",
       "      <td>0.271817</td>\n",
       "      <td>2023-06-28</td>\n",
       "      <td>0</td>\n",
       "    </tr>\n",
       "    <tr>\n",
       "      <th>179</th>\n",
       "      <td>0.426866</td>\n",
       "      <td>0.672067</td>\n",
       "      <td>0.315622</td>\n",
       "      <td>2023-06-29</td>\n",
       "      <td>1</td>\n",
       "    </tr>\n",
       "    <tr>\n",
       "      <th>180</th>\n",
       "      <td>0.698532</td>\n",
       "      <td>0.334100</td>\n",
       "      <td>0.486607</td>\n",
       "      <td>2023-06-30</td>\n",
       "      <td>0</td>\n",
       "    </tr>\n",
       "  </tbody>\n",
       "</table>\n",
       "<p>181 rows × 5 columns</p>\n",
       "</div>"
      ],
      "text/plain": [
       "     Temperature  Pressure  Vibration   Timestamp  FailureLabel\n",
       "0       0.623065  0.490970   0.504820  2023-01-01             0\n",
       "1       0.851555  0.475798   0.368577  2023-01-02             1\n",
       "2       0.864063  0.634273   0.332218  2023-01-03             1\n",
       "3       0.633272  0.439523   0.332796  2023-01-04             0\n",
       "4       0.566349  0.210120   0.138251  2023-01-05             0\n",
       "..           ...       ...        ...         ...           ...\n",
       "176     0.570303  0.369762   0.503414  2023-06-26             0\n",
       "177     0.142574  0.502391   0.217649  2023-06-27             0\n",
       "178     0.367361  0.520346   0.271817  2023-06-28             0\n",
       "179     0.426866  0.672067   0.315622  2023-06-29             1\n",
       "180     0.698532  0.334100   0.486607  2023-06-30             0\n",
       "\n",
       "[181 rows x 5 columns]"
      ]
     },
     "execution_count": 6,
     "metadata": {},
     "output_type": "execute_result"
    }
   ],
   "source": [
    "data"
   ]
  },
  {
   "cell_type": "code",
   "execution_count": 7,
   "id": "891675b3-efb2-4886-af9a-e4f9cb6401f1",
   "metadata": {},
   "outputs": [],
   "source": [
    "timestamp=10\n",
    "i=1"
   ]
  },
  {
   "cell_type": "code",
   "execution_count": 8,
   "id": "cdb12a7c-0492-4397-849d-ca267d828fee",
   "metadata": {},
   "outputs": [
    {
     "data": {
      "text/plain": [
       "181"
      ]
     },
     "execution_count": 8,
     "metadata": {},
     "output_type": "execute_result"
    }
   ],
   "source": [
    "len(data)"
   ]
  },
  {
   "cell_type": "code",
   "execution_count": 9,
   "id": "8632b801-46bb-4aaf-ab7b-b0b404e7c46d",
   "metadata": {},
   "outputs": [
    {
     "data": {
      "text/plain": [
       "170"
      ]
     },
     "execution_count": 9,
     "metadata": {},
     "output_type": "execute_result"
    }
   ],
   "source": [
    "len(data) - timestamp - 1"
   ]
  },
  {
   "cell_type": "code",
   "execution_count": 10,
   "id": "fcfdddf2-3928-4f1a-b1b3-e4349b82b49a",
   "metadata": {},
   "outputs": [
    {
     "data": {
      "text/plain": [
       "array([[0.8515552 , 0.47579802, 0.36857733],\n",
       "       [0.86406331, 0.63427343, 0.33221761],\n",
       "       [0.63327158, 0.43952287, 0.33279616],\n",
       "       [0.566349  , 0.21011961, 0.13825114],\n",
       "       [0.38729753, 0.3525924 , 0.4533029 ],\n",
       "       [0.31032563, 0.2893862 , 0.63119485],\n",
       "       [0.46221558, 0.52353133, 0.18462746],\n",
       "       [0.3912837 , 0.53039737, 0.22692265],\n",
       "       [0.59612281, 0.41781119, 0.35968479],\n",
       "       [0.37852159, 0.80592186, 0.40266625]])"
      ]
     },
     "execution_count": 10,
     "metadata": {},
     "output_type": "execute_result"
    }
   ],
   "source": [
    "sequence = data[['Temperature', 'Pressure', 'Vibration']].iloc[i:(i + timestamp)].values\n",
    "sequence"
   ]
  },
  {
   "cell_type": "code",
   "execution_count": null,
   "id": "0e7dd7e0-b162-4bcb-8289-785b50ab4f57",
   "metadata": {},
   "outputs": [],
   "source": [
    "\n",
    "datax = []\n",
    "datay = []\n",
    "timestamp = 10  \n",
    "\n",
    "for i in range(len(data) - timestamp - 1):\n",
    "    sequence = data[['Temperature', 'Pressure', 'Vibration']].iloc[i:(i + timestamp)].values\n",
    "    datax.append(sequence)\n",
    "    datay.append(data['FailureLabel'].iloc[i + timestamp])"
   ]
  },
  {
   "cell_type": "code",
   "execution_count": null,
   "id": "887f0f23-77fa-458c-bf06-a8fd219189ee",
   "metadata": {},
   "outputs": [],
   "source": [
    "datax"
   ]
  },
  {
   "cell_type": "code",
   "execution_count": null,
   "id": "3af4e8b5-be81-4349-8642-bd789cb36688",
   "metadata": {},
   "outputs": [],
   "source": [
    "datay"
   ]
  },
  {
   "cell_type": "code",
   "execution_count": null,
   "id": "3439303d-b6ab-4614-90f7-87a3b178fd5d",
   "metadata": {},
   "outputs": [],
   "source": [
    "trainx = np.array(datax)\n",
    "trainy = np.array(datay)"
   ]
  },
  {
   "cell_type": "code",
   "execution_count": null,
   "id": "32c8e4d0-9918-454e-9dcc-19a281d55c40",
   "metadata": {},
   "outputs": [],
   "source": [
    "trainx"
   ]
  },
  {
   "cell_type": "code",
   "execution_count": null,
   "id": "71086ab9-baf3-440c-9a10-2ec0e12599b7",
   "metadata": {},
   "outputs": [],
   "source": [
    "trainy"
   ]
  },
  {
   "cell_type": "code",
   "execution_count": null,
   "id": "d72fb8fb-df80-4a90-968f-fd7a7db436d2",
   "metadata": {},
   "outputs": [],
   "source": [
    "xtrain, xtest, ytrain, ytest = train_test_split(trainx, trainy, test_size=0.2, random_state=42)"
   ]
  },
  {
   "cell_type": "code",
   "execution_count": null,
   "id": "718872ce-eb86-4ad0-a09b-17fd445ace75",
   "metadata": {},
   "outputs": [],
   "source": [
    "model = Sequential()\n",
    "model.add(Bidirectional(LSTM(units=50, activation='relu', input_shape=(timestamp, 3))))  \n",
    "model.add(Dense(units=1, activation='sigmoid')) \n",
    "\n",
    "model.compile(optimizer='adam', loss='binary_crossentropy', metrics=['accuracy'])"
   ]
  },
  {
   "cell_type": "code",
   "execution_count": null,
   "id": "48f136da-0084-4660-9ffb-6883a6d5eb4f",
   "metadata": {},
   "outputs": [],
   "source": [
    "model.fit(xtrain, ytrain, epochs=10, batch_size=32, validation_data=(xtest, ytest))"
   ]
  },
  {
   "cell_type": "code",
   "execution_count": null,
   "id": "95dc0e5f-3c98-45ca-b18b-bd61bfac6dc5",
   "metadata": {},
   "outputs": [],
   "source": [
    "loss, accuracy = model.evaluate(xtest, ytest)\n",
    "print(f\"Test Accuracy: {accuracy}\")"
   ]
  }
 ],
 "metadata": {
  "kernelspec": {
   "display_name": "Python 3 (ipykernel)",
   "language": "python",
   "name": "python3"
  },
  "language_info": {
   "codemirror_mode": {
    "name": "ipython",
    "version": 3
   },
   "file_extension": ".py",
   "mimetype": "text/x-python",
   "name": "python",
   "nbconvert_exporter": "python",
   "pygments_lexer": "ipython3",
   "version": "3.11.4"
  }
 },
 "nbformat": 4,
 "nbformat_minor": 5
}
